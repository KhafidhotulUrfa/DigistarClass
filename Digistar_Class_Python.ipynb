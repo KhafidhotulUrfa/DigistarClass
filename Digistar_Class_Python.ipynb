{
  "cells": [
    {
      "cell_type": "markdown",
      "metadata": {
        "id": "view-in-github",
        "colab_type": "text"
      },
      "source": [
        "<a href=\"https://colab.research.google.com/github/KhafidhotulUrfa/DigistarClass/blob/main/Digistar_Class_Python.ipynb\" target=\"_parent\"><img src=\"https://colab.research.google.com/assets/colab-badge.svg\" alt=\"Open In Colab\"/></a>"
      ]
    },
    {
      "cell_type": "markdown",
      "id": "2e0480e4",
      "metadata": {
        "id": "2e0480e4"
      },
      "source": [
        "# Hello Digistar Class 2023"
      ]
    },
    {
      "cell_type": "markdown",
      "id": "4866d386",
      "metadata": {
        "id": "4866d386"
      },
      "source": [
        "# Data Type in Python"
      ]
    },
    {
      "cell_type": "markdown",
      "id": "166844a5",
      "metadata": {
        "id": "166844a5"
      },
      "source": [
        "### String Data Type (Word/Text)"
      ]
    },
    {
      "cell_type": "code",
      "execution_count": null,
      "id": "fbdf660e",
      "metadata": {
        "colab": {
          "base_uri": "https://localhost:8080/",
          "height": 35
        },
        "id": "fbdf660e",
        "outputId": "59eb15f3-a67d-41cd-e803-965afa776dc8"
      },
      "outputs": [
        {
          "output_type": "execute_result",
          "data": {
            "text/plain": [
              "'Hello Digistar Class Telkom Indonesia'"
            ],
            "application/vnd.google.colaboratory.intrinsic+json": {
              "type": "string"
            }
          },
          "metadata": {},
          "execution_count": 1
        }
      ],
      "source": [
        "\"Hello Digistar Class Telkom Indonesia\""
      ]
    },
    {
      "cell_type": "code",
      "execution_count": null,
      "id": "d4ccf794",
      "metadata": {
        "colab": {
          "base_uri": "https://localhost:8080/"
        },
        "id": "d4ccf794",
        "outputId": "c814a5f7-e542-43ac-949e-e13320c58752"
      },
      "outputs": [
        {
          "output_type": "execute_result",
          "data": {
            "text/plain": [
              "str"
            ]
          },
          "metadata": {},
          "execution_count": 2
        }
      ],
      "source": [
        "type(\"Hello SobatLIT Telkom Indonesia\") #type berfungsi untuk mengetahui tipe data"
      ]
    },
    {
      "cell_type": "markdown",
      "id": "92b403f2",
      "metadata": {
        "id": "92b403f2"
      },
      "source": [
        "### Integer Data Type (Bilangan Bulat)"
      ]
    },
    {
      "cell_type": "code",
      "execution_count": null,
      "id": "6775c4a0",
      "metadata": {
        "colab": {
          "base_uri": "https://localhost:8080/"
        },
        "id": "6775c4a0",
        "outputId": "497ac589-6e6b-42ef-9882-8e9bdb2dbb03"
      },
      "outputs": [
        {
          "output_type": "execute_result",
          "data": {
            "text/plain": [
              "1000"
            ]
          },
          "metadata": {},
          "execution_count": 3
        }
      ],
      "source": [
        "#Integer Data Type / Bilangan Bulat\n",
        "\n",
        "1000"
      ]
    },
    {
      "cell_type": "code",
      "execution_count": null,
      "id": "67b0cf2d",
      "metadata": {
        "colab": {
          "base_uri": "https://localhost:8080/"
        },
        "id": "67b0cf2d",
        "outputId": "c42bf0a5-72af-4d0e-b8ca-3c9a04b3a6c5"
      },
      "outputs": [
        {
          "output_type": "execute_result",
          "data": {
            "text/plain": [
              "int"
            ]
          },
          "metadata": {},
          "execution_count": 4
        }
      ],
      "source": [
        "type(1000)"
      ]
    },
    {
      "cell_type": "markdown",
      "id": "796fec33",
      "metadata": {
        "id": "796fec33"
      },
      "source": [
        "### Float Data Type (Bilangan Desimal)"
      ]
    },
    {
      "cell_type": "code",
      "execution_count": null,
      "id": "e040abfc",
      "metadata": {
        "colab": {
          "base_uri": "https://localhost:8080/"
        },
        "id": "e040abfc",
        "outputId": "9cf69428-183b-49d8-8638-b89f62c770ea"
      },
      "outputs": [
        {
          "output_type": "execute_result",
          "data": {
            "text/plain": [
              "1.02"
            ]
          },
          "metadata": {},
          "execution_count": 5
        }
      ],
      "source": [
        "#Float / Bilangan Desimal Data Type\n",
        "1.02"
      ]
    },
    {
      "cell_type": "code",
      "execution_count": null,
      "id": "499b3694",
      "metadata": {
        "colab": {
          "base_uri": "https://localhost:8080/"
        },
        "id": "499b3694",
        "outputId": "835efa96-9367-4f31-eb84-f627eb1afc76"
      },
      "outputs": [
        {
          "output_type": "execute_result",
          "data": {
            "text/plain": [
              "float"
            ]
          },
          "metadata": {},
          "execution_count": 6
        }
      ],
      "source": [
        "type(1.02)"
      ]
    },
    {
      "cell_type": "markdown",
      "id": "cb00e9b9",
      "metadata": {
        "id": "cb00e9b9"
      },
      "source": [
        "### Boolean Data Type (True or False)"
      ]
    },
    {
      "cell_type": "code",
      "execution_count": null,
      "id": "d4926698",
      "metadata": {
        "colab": {
          "base_uri": "https://localhost:8080/"
        },
        "id": "d4926698",
        "outputId": "88e503e9-afbd-4c43-ae06-fe3253170530"
      },
      "outputs": [
        {
          "output_type": "execute_result",
          "data": {
            "text/plain": [
              "True"
            ]
          },
          "metadata": {},
          "execution_count": 7
        }
      ],
      "source": [
        "#Boolean Data Type\n",
        "True"
      ]
    },
    {
      "cell_type": "code",
      "execution_count": null,
      "id": "4e18d281",
      "metadata": {
        "colab": {
          "base_uri": "https://localhost:8080/"
        },
        "id": "4e18d281",
        "outputId": "55d037d2-e030-4665-ab8c-292e7defd4cf"
      },
      "outputs": [
        {
          "output_type": "execute_result",
          "data": {
            "text/plain": [
              "False"
            ]
          },
          "metadata": {},
          "execution_count": 8
        }
      ],
      "source": [
        "False"
      ]
    },
    {
      "cell_type": "code",
      "execution_count": null,
      "id": "2f113ace",
      "metadata": {
        "colab": {
          "base_uri": "https://localhost:8080/"
        },
        "id": "2f113ace",
        "outputId": "36fd61f7-f89f-4681-d482-37ce7e5966fa"
      },
      "outputs": [
        {
          "output_type": "execute_result",
          "data": {
            "text/plain": [
              "bool"
            ]
          },
          "metadata": {},
          "execution_count": 9
        }
      ],
      "source": [
        "type(True)"
      ]
    },
    {
      "cell_type": "markdown",
      "id": "4e01ca86",
      "metadata": {
        "id": "4e01ca86"
      },
      "source": [
        "# Math Operators in Python"
      ]
    },
    {
      "cell_type": "markdown",
      "id": "8ce33a4f",
      "metadata": {
        "id": "8ce33a4f"
      },
      "source": [
        "### Pertambahan / Addition"
      ]
    },
    {
      "cell_type": "code",
      "execution_count": null,
      "id": "b7d1e403",
      "metadata": {
        "colab": {
          "base_uri": "https://localhost:8080/"
        },
        "id": "b7d1e403",
        "outputId": "636e1387-4a5d-4641-be4c-25e39acad5fa"
      },
      "outputs": [
        {
          "output_type": "execute_result",
          "data": {
            "text/plain": [
              "2"
            ]
          },
          "metadata": {},
          "execution_count": 10
        }
      ],
      "source": [
        "1+1"
      ]
    },
    {
      "cell_type": "markdown",
      "id": "66494c9e",
      "metadata": {
        "id": "66494c9e"
      },
      "source": [
        "### Pengurangan / Substraction"
      ]
    },
    {
      "cell_type": "code",
      "execution_count": null,
      "id": "c53b1ddc",
      "metadata": {
        "colab": {
          "base_uri": "https://localhost:8080/"
        },
        "id": "c53b1ddc",
        "outputId": "dd84b14f-9ea9-4789-b3ad-d50591a78e89"
      },
      "outputs": [
        {
          "output_type": "execute_result",
          "data": {
            "text/plain": [
              "4"
            ]
          },
          "metadata": {},
          "execution_count": 11
        }
      ],
      "source": [
        "5-1"
      ]
    },
    {
      "cell_type": "markdown",
      "id": "bb39b23e",
      "metadata": {
        "id": "bb39b23e"
      },
      "source": [
        "### Perkalian / Multiplication"
      ]
    },
    {
      "cell_type": "code",
      "execution_count": null,
      "id": "cbd4cc3e",
      "metadata": {
        "colab": {
          "base_uri": "https://localhost:8080/"
        },
        "id": "cbd4cc3e",
        "outputId": "8e93edb0-b161-4290-9936-cb69d5d9106e"
      },
      "outputs": [
        {
          "output_type": "execute_result",
          "data": {
            "text/plain": [
              "25"
            ]
          },
          "metadata": {},
          "execution_count": 12
        }
      ],
      "source": [
        "5*5"
      ]
    },
    {
      "cell_type": "markdown",
      "id": "38e45e99",
      "metadata": {
        "id": "38e45e99"
      },
      "source": [
        "### Pembagian / Division"
      ]
    },
    {
      "cell_type": "code",
      "execution_count": null,
      "id": "fbde212a",
      "metadata": {
        "colab": {
          "base_uri": "https://localhost:8080/"
        },
        "id": "fbde212a",
        "outputId": "d2097934-1ee7-48c7-d44c-2f91148a1827"
      },
      "outputs": [
        {
          "output_type": "execute_result",
          "data": {
            "text/plain": [
              "5.0"
            ]
          },
          "metadata": {},
          "execution_count": 14
        }
      ],
      "source": [
        "10/2 #hasilnya float"
      ]
    },
    {
      "cell_type": "code",
      "execution_count": null,
      "id": "d121171c",
      "metadata": {
        "colab": {
          "base_uri": "https://localhost:8080/"
        },
        "id": "d121171c",
        "outputId": "c4f2b50d-a5b9-4f2d-bcd7-5043fec5ca34"
      },
      "outputs": [
        {
          "output_type": "execute_result",
          "data": {
            "text/plain": [
              "float"
            ]
          },
          "metadata": {},
          "execution_count": 13
        }
      ],
      "source": [
        "type(10/2)"
      ]
    },
    {
      "cell_type": "markdown",
      "id": "8336ec43",
      "metadata": {
        "id": "8336ec43"
      },
      "source": [
        "### Floor Division"
      ]
    },
    {
      "cell_type": "code",
      "execution_count": null,
      "id": "a64d6390",
      "metadata": {
        "colab": {
          "base_uri": "https://localhost:8080/"
        },
        "id": "a64d6390",
        "outputId": "a1163cb7-c69e-4c12-b512-f455a6872620"
      },
      "outputs": [
        {
          "output_type": "execute_result",
          "data": {
            "text/plain": [
              "1"
            ]
          },
          "metadata": {},
          "execution_count": 18
        }
      ],
      "source": [
        "3//2 #hasilnya integer"
      ]
    },
    {
      "cell_type": "code",
      "execution_count": null,
      "id": "08317297",
      "metadata": {
        "colab": {
          "base_uri": "https://localhost:8080/"
        },
        "id": "08317297",
        "outputId": "9a0d59a8-1770-4660-c2b0-81968444bd0c"
      },
      "outputs": [
        {
          "output_type": "execute_result",
          "data": {
            "text/plain": [
              "int"
            ]
          },
          "metadata": {},
          "execution_count": 17
        }
      ],
      "source": [
        "type(3//2)"
      ]
    },
    {
      "cell_type": "markdown",
      "id": "1fc0a7d3",
      "metadata": {
        "id": "1fc0a7d3"
      },
      "source": [
        "### Perpangkatan / Exponentation / Power\n"
      ]
    },
    {
      "cell_type": "code",
      "execution_count": null,
      "id": "eff29a67",
      "metadata": {
        "colab": {
          "base_uri": "https://localhost:8080/"
        },
        "id": "eff29a67",
        "outputId": "f64d5e33-9c87-4f74-f306-f1d43f52291b"
      },
      "outputs": [
        {
          "output_type": "execute_result",
          "data": {
            "text/plain": [
              "25"
            ]
          },
          "metadata": {},
          "execution_count": 19
        }
      ],
      "source": [
        "5**2 #ini adalah perpangkatan"
      ]
    },
    {
      "cell_type": "markdown",
      "id": "1d7fe461",
      "metadata": {
        "id": "1d7fe461"
      },
      "source": [
        "### Modulus / Sisa Pembagian"
      ]
    },
    {
      "cell_type": "code",
      "execution_count": null,
      "id": "c7d41cb5",
      "metadata": {
        "colab": {
          "base_uri": "https://localhost:8080/"
        },
        "id": "c7d41cb5",
        "outputId": "6e9c5913-1381-4476-9e1a-eb6a14a45d7c"
      },
      "outputs": [
        {
          "output_type": "execute_result",
          "data": {
            "text/plain": [
              "0"
            ]
          },
          "metadata": {},
          "execution_count": 19
        }
      ],
      "source": [
        "12%3"
      ]
    },
    {
      "cell_type": "code",
      "source": [
        "13%3"
      ],
      "metadata": {
        "colab": {
          "base_uri": "https://localhost:8080/"
        },
        "id": "sSkExn7eUZmA",
        "outputId": "7742d97f-3743-4371-8cc4-d03f732bacc2"
      },
      "id": "sSkExn7eUZmA",
      "execution_count": null,
      "outputs": [
        {
          "output_type": "execute_result",
          "data": {
            "text/plain": [
              "1"
            ]
          },
          "metadata": {},
          "execution_count": 20
        }
      ]
    },
    {
      "cell_type": "markdown",
      "id": "0fe54c3c",
      "metadata": {
        "id": "0fe54c3c"
      },
      "source": [
        "# Operator Perbandingan"
      ]
    },
    {
      "cell_type": "code",
      "execution_count": null,
      "id": "b8bd62bd",
      "metadata": {
        "colab": {
          "base_uri": "https://localhost:8080/"
        },
        "id": "b8bd62bd",
        "outputId": "f33701fe-72ef-47e3-d0a7-634c1431aa2d"
      },
      "outputs": [
        {
          "output_type": "execute_result",
          "data": {
            "text/plain": [
              "True"
            ]
          },
          "metadata": {},
          "execution_count": 21
        }
      ],
      "source": [
        "5==5 #sama dengan"
      ]
    },
    {
      "cell_type": "code",
      "execution_count": null,
      "id": "4f705838",
      "metadata": {
        "colab": {
          "base_uri": "https://localhost:8080/"
        },
        "id": "4f705838",
        "outputId": "dac8ab7e-c6cc-4dbb-f377-e1d112c728a2"
      },
      "outputs": [
        {
          "output_type": "execute_result",
          "data": {
            "text/plain": [
              "False"
            ]
          },
          "metadata": {},
          "execution_count": 22
        }
      ],
      "source": [
        "1>5 #lebih besar"
      ]
    },
    {
      "cell_type": "code",
      "execution_count": null,
      "id": "c20d2024",
      "metadata": {
        "colab": {
          "base_uri": "https://localhost:8080/"
        },
        "id": "c20d2024",
        "outputId": "6f1f50f7-fe4d-4e0b-db59-e4220d3a51f9"
      },
      "outputs": [
        {
          "output_type": "execute_result",
          "data": {
            "text/plain": [
              "True"
            ]
          },
          "metadata": {},
          "execution_count": 23
        }
      ],
      "source": [
        "1<5 #lebih kecil"
      ]
    },
    {
      "cell_type": "code",
      "execution_count": null,
      "id": "6cfc56f6",
      "metadata": {
        "colab": {
          "base_uri": "https://localhost:8080/"
        },
        "id": "6cfc56f6",
        "outputId": "8bf0a36a-c6d4-4f56-e8b4-95edb7664536"
      },
      "outputs": [
        {
          "output_type": "execute_result",
          "data": {
            "text/plain": [
              "True"
            ]
          },
          "metadata": {},
          "execution_count": 24
        }
      ],
      "source": [
        "5<=5 #lebih kecil dari sama dengan"
      ]
    },
    {
      "cell_type": "code",
      "execution_count": null,
      "id": "b75603ad",
      "metadata": {
        "id": "b75603ad",
        "outputId": "9f27d231-51cd-4e04-c3e6-244f8f16ee9b",
        "colab": {
          "base_uri": "https://localhost:8080/"
        }
      },
      "outputs": [
        {
          "output_type": "execute_result",
          "data": {
            "text/plain": [
              "False"
            ]
          },
          "metadata": {},
          "execution_count": 25
        }
      ],
      "source": [
        "5>=6 #lebih besar dari sama dengan"
      ]
    },
    {
      "cell_type": "code",
      "execution_count": null,
      "id": "d03126a0",
      "metadata": {
        "id": "d03126a0",
        "outputId": "a9bb11d8-5414-457b-8680-f3828832efb3",
        "colab": {
          "base_uri": "https://localhost:8080/"
        }
      },
      "outputs": [
        {
          "output_type": "execute_result",
          "data": {
            "text/plain": [
              "True"
            ]
          },
          "metadata": {},
          "execution_count": 28
        }
      ],
      "source": [
        "5!=6 #tidak sama dengan , <>"
      ]
    },
    {
      "cell_type": "markdown",
      "id": "59d4c6b6",
      "metadata": {
        "id": "59d4c6b6"
      },
      "source": [
        "# Operator Logika"
      ]
    },
    {
      "cell_type": "markdown",
      "id": "5e31bf90",
      "metadata": {
        "id": "5e31bf90"
      },
      "source": [
        "AND, untuk mendapatkan nilai True, maka kedua pernyataan harus benar\n",
        "\n",
        "- True + True = True\n",
        "- True + False = False\n",
        "- False + True = False\n",
        "- False + False = False"
      ]
    },
    {
      "cell_type": "code",
      "execution_count": null,
      "id": "0149c6f8",
      "metadata": {
        "colab": {
          "base_uri": "https://localhost:8080/"
        },
        "id": "0149c6f8",
        "outputId": "7cb61fea-c57a-4504-fbc0-9aa585b00316"
      },
      "outputs": [
        {
          "output_type": "stream",
          "name": "stdout",
          "text": [
            "lulus\n"
          ]
        }
      ],
      "source": [
        "nilai_mtk = 75\n",
        "nilai_bing = 75\n",
        "\n",
        "if(nilai_mtk >=75) and (nilai_bing>=75):\n",
        "    print(\"lulus\")\n",
        "else:\n",
        "    print(\"tidak lulus\")"
      ]
    },
    {
      "cell_type": "markdown",
      "id": "aecd423b",
      "metadata": {
        "id": "aecd423b"
      },
      "source": [
        "OR , jika salah satu pernyataan benar, maka nilai menjadi benar\n",
        "\n",
        "- True + True = True\n",
        "- True + False = True\n",
        "- False + True = True\n",
        "- False + False = False"
      ]
    },
    {
      "cell_type": "code",
      "execution_count": null,
      "id": "4ea669c2",
      "metadata": {
        "id": "4ea669c2",
        "outputId": "62a00253-2f2d-40be-878a-6636da448812",
        "colab": {
          "base_uri": "https://localhost:8080/"
        }
      },
      "outputs": [
        {
          "output_type": "stream",
          "name": "stdout",
          "text": [
            "lulus\n"
          ]
        }
      ],
      "source": [
        "nilai_mtk = 75\n",
        "nilai_bing = 70\n",
        "\n",
        "if(nilai_mtk >=75) or (nilai_bing>=75):\n",
        "    print(\"lulus\")\n",
        "else:\n",
        "    print(\"tidak lulus\")"
      ]
    },
    {
      "cell_type": "markdown",
      "id": "54349573",
      "metadata": {
        "id": "54349573"
      },
      "source": [
        "# TUPLE , unchangeable"
      ]
    },
    {
      "cell_type": "markdown",
      "id": "e7975008",
      "metadata": {
        "id": "e7975008"
      },
      "source": [
        "Tuple items are ordered, unchangeable, and allow duplicate values.\n",
        "\n"
      ]
    },
    {
      "cell_type": "code",
      "source": [
        "1,2,3,4,5 , [0==1, 1==2]"
      ],
      "metadata": {
        "id": "5zdwgLOEgnr_",
        "colab": {
          "base_uri": "https://localhost:8080/"
        },
        "outputId": "a00f6c7b-09b2-4d82-9f8d-5aadc46c4c02"
      },
      "id": "5zdwgLOEgnr_",
      "execution_count": null,
      "outputs": [
        {
          "output_type": "execute_result",
          "data": {
            "text/plain": [
              "(1, 2, 3, 4, 5, [False, False])"
            ]
          },
          "metadata": {},
          "execution_count": 32
        }
      ]
    },
    {
      "cell_type": "code",
      "execution_count": null,
      "id": "62673e13",
      "metadata": {
        "id": "62673e13"
      },
      "outputs": [],
      "source": [
        "data = (1,2,3,4,5,6,7,8,9,10,11,12) , 0,1,2,3,4-11"
      ]
    },
    {
      "cell_type": "code",
      "source": [
        "test = [1,2,3,4,5,6,7,8,9,10]"
      ],
      "metadata": {
        "id": "WNqS44Qh1CVk"
      },
      "id": "WNqS44Qh1CVk",
      "execution_count": null,
      "outputs": []
    },
    {
      "cell_type": "code",
      "source": [
        "test[:5]"
      ],
      "metadata": {
        "colab": {
          "base_uri": "https://localhost:8080/"
        },
        "id": "rSJ4WDuq1GWX",
        "outputId": "45033419-4e8b-4ddc-f6a8-5d9f27c74279"
      },
      "id": "rSJ4WDuq1GWX",
      "execution_count": null,
      "outputs": [
        {
          "output_type": "execute_result",
          "data": {
            "text/plain": [
              "[1, 2, 3, 4, 5]"
            ]
          },
          "metadata": {},
          "execution_count": 40
        }
      ]
    },
    {
      "cell_type": "code",
      "execution_count": null,
      "id": "d239b7a6",
      "metadata": {
        "colab": {
          "base_uri": "https://localhost:8080/",
          "height": 175
        },
        "id": "d239b7a6",
        "outputId": "13b18621-e807-4bc9-b773-eb7ac829668b"
      },
      "outputs": [
        {
          "output_type": "error",
          "ename": "TypeError",
          "evalue": "ignored",
          "traceback": [
            "\u001b[0;31m---------------------------------------------------------------------------\u001b[0m",
            "\u001b[0;31mTypeError\u001b[0m                                 Traceback (most recent call last)",
            "\u001b[0;32m<ipython-input-43-2d9f776cd218>\u001b[0m in \u001b[0;36m<cell line: 1>\u001b[0;34m()\u001b[0m\n\u001b[0;32m----> 1\u001b[0;31m \u001b[0mdata\u001b[0m\u001b[0;34m[\u001b[0m\u001b[0;36m0\u001b[0m\u001b[0;34m]\u001b[0m \u001b[0;34m=\u001b[0m \u001b[0;36m4\u001b[0m \u001b[0;31m#bukti bahwa tuple bersifat unchangeable\u001b[0m\u001b[0;34m\u001b[0m\u001b[0;34m\u001b[0m\u001b[0m\n\u001b[0m",
            "\u001b[0;31mTypeError\u001b[0m: 'tuple' object does not support item assignment"
          ]
        }
      ],
      "source": [
        "data[0] = 4 #bukti bahwa tuple bersifat unchangeable"
      ]
    },
    {
      "cell_type": "code",
      "source": [
        "datatest = [1,2,3,4,5,6,7,8,9,10]"
      ],
      "metadata": {
        "id": "YMkyiAzM2o-B"
      },
      "id": "YMkyiAzM2o-B",
      "execution_count": null,
      "outputs": []
    },
    {
      "cell_type": "code",
      "source": [
        "datatest[0] = 99"
      ],
      "metadata": {
        "id": "1bsg0UP22vw5"
      },
      "id": "1bsg0UP22vw5",
      "execution_count": null,
      "outputs": []
    },
    {
      "cell_type": "code",
      "source": [
        "datatest"
      ],
      "metadata": {
        "colab": {
          "base_uri": "https://localhost:8080/"
        },
        "id": "L-SMNb0Q255Z",
        "outputId": "400e1051-b876-469a-cb51-429c9d6c8ee0"
      },
      "id": "L-SMNb0Q255Z",
      "execution_count": null,
      "outputs": [
        {
          "output_type": "execute_result",
          "data": {
            "text/plain": [
              "[99, 2, 3, 4, 5, 6, 7, 8, 9, 10]"
            ]
          },
          "metadata": {},
          "execution_count": 47
        }
      ]
    },
    {
      "cell_type": "code",
      "source": [
        "data[0]"
      ],
      "metadata": {
        "colab": {
          "base_uri": "https://localhost:8080/"
        },
        "id": "anU8FMoShj5u",
        "outputId": "dd6021db-7cae-4d97-c99e-4b6613357d32"
      },
      "id": "anU8FMoShj5u",
      "execution_count": null,
      "outputs": [
        {
          "output_type": "execute_result",
          "data": {
            "text/plain": [
              "(1, 2, 3, 4, 5, 6, 7, 8, 9, 10, 11, 12)"
            ]
          },
          "metadata": {},
          "execution_count": 34
        }
      ]
    },
    {
      "cell_type": "markdown",
      "id": "73c5dd71",
      "metadata": {
        "id": "73c5dd71"
      },
      "source": [
        "# LIST , changeable"
      ]
    },
    {
      "cell_type": "markdown",
      "id": "0e9f714e",
      "metadata": {
        "id": "0e9f714e"
      },
      "source": [
        "Lists are used to store multiple items in a single variable."
      ]
    },
    {
      "cell_type": "code",
      "execution_count": null,
      "id": "4cab0685",
      "metadata": {
        "id": "4cab0685"
      },
      "outputs": [],
      "source": [
        "data2 = [0,1,2,3,4,5,6,6,7,8,9,10]"
      ]
    },
    {
      "cell_type": "code",
      "execution_count": null,
      "id": "d44426f1",
      "metadata": {
        "id": "d44426f1"
      },
      "outputs": [],
      "source": [
        "data2[0] = 99 #bukti bahwa list changeable"
      ]
    },
    {
      "cell_type": "code",
      "execution_count": null,
      "id": "1b221af6",
      "metadata": {
        "scrolled": true,
        "colab": {
          "base_uri": "https://localhost:8080/"
        },
        "id": "1b221af6",
        "outputId": "5bfc1c6d-92ca-4c86-cae4-0ac1a131a118"
      },
      "outputs": [
        {
          "output_type": "execute_result",
          "data": {
            "text/plain": [
              "[99, 1, 2, 3, 4, 5, 6, 6, 7, 8, 9, 10]"
            ]
          },
          "metadata": {},
          "execution_count": 32
        }
      ],
      "source": [
        "data2"
      ]
    },
    {
      "cell_type": "code",
      "execution_count": null,
      "id": "aa4801cb",
      "metadata": {
        "colab": {
          "base_uri": "https://localhost:8080/"
        },
        "id": "aa4801cb",
        "outputId": "a14febec-972e-474b-9428-0b4740e4e3e1"
      },
      "outputs": [
        {
          "output_type": "execute_result",
          "data": {
            "text/plain": [
              "[99, 1, 2, 3, 4]"
            ]
          },
          "metadata": {},
          "execution_count": 33
        }
      ],
      "source": [
        "#slicing\n",
        "data2[0:5] #0-4"
      ]
    },
    {
      "cell_type": "markdown",
      "id": "b48dbb5d",
      "metadata": {
        "id": "b48dbb5d"
      },
      "source": [
        "# SET"
      ]
    },
    {
      "cell_type": "markdown",
      "id": "6bf57b91",
      "metadata": {
        "id": "6bf57b91"
      },
      "source": [
        "A set is a collection which is unordered, unchangeable*, and unindexed."
      ]
    },
    {
      "cell_type": "code",
      "execution_count": null,
      "id": "dfc8c4a4",
      "metadata": {
        "id": "dfc8c4a4"
      },
      "outputs": [],
      "source": [
        "data3 = {1,1,1,2,2,2,3,3,3} #tidak diizinkan ada duplikasi"
      ]
    },
    {
      "cell_type": "code",
      "execution_count": null,
      "id": "083cd9f3",
      "metadata": {
        "colab": {
          "base_uri": "https://localhost:8080/"
        },
        "id": "083cd9f3",
        "outputId": "07c6c25a-c22a-4913-a7e0-9bea41c0cd4a"
      },
      "outputs": [
        {
          "output_type": "execute_result",
          "data": {
            "text/plain": [
              "{1, 2, 3}"
            ]
          },
          "metadata": {},
          "execution_count": 49
        }
      ],
      "source": [
        "data3"
      ]
    },
    {
      "cell_type": "code",
      "execution_count": null,
      "id": "0e33e7da",
      "metadata": {
        "colab": {
          "base_uri": "https://localhost:8080/",
          "height": 175
        },
        "id": "0e33e7da",
        "outputId": "854c5e67-b016-47af-91db-de29bd5ab7c9"
      },
      "outputs": [
        {
          "output_type": "error",
          "ename": "TypeError",
          "evalue": "ignored",
          "traceback": [
            "\u001b[0;31m---------------------------------------------------------------------------\u001b[0m",
            "\u001b[0;31mTypeError\u001b[0m                                 Traceback (most recent call last)",
            "\u001b[0;32m<ipython-input-50-f2a0fc906622>\u001b[0m in \u001b[0;36m<cell line: 1>\u001b[0;34m()\u001b[0m\n\u001b[0;32m----> 1\u001b[0;31m \u001b[0mdata3\u001b[0m\u001b[0;34m[\u001b[0m\u001b[0;36m0\u001b[0m\u001b[0;34m]\u001b[0m \u001b[0;31m#unindexed\u001b[0m\u001b[0;34m\u001b[0m\u001b[0;34m\u001b[0m\u001b[0m\n\u001b[0m",
            "\u001b[0;31mTypeError\u001b[0m: 'set' object is not subscriptable"
          ]
        }
      ],
      "source": [
        "data3[0] #unindexed"
      ]
    },
    {
      "cell_type": "markdown",
      "id": "fb239d1c",
      "metadata": {
        "id": "fb239d1c"
      },
      "source": [
        "# Dictionary"
      ]
    },
    {
      "cell_type": "markdown",
      "id": "4fb652fc",
      "metadata": {
        "id": "4fb652fc"
      },
      "source": [
        "A dictionary is a collection which is ordered*, changeable and do not allow duplicates."
      ]
    },
    {
      "cell_type": "code",
      "execution_count": null,
      "id": "83e6f984",
      "metadata": {
        "id": "83e6f984"
      },
      "outputs": [],
      "source": [
        "dictionary = {\n",
        "  \"nama_depan\": [\"Anas\",\"Arief\"],\n",
        "  \"nama_belakang\": [\"Wicaksono\",\"Faizin\"],\n",
        "  \"unit\": [\"DBT\",\"DBT\"]\n",
        "}"
      ]
    },
    {
      "cell_type": "code",
      "execution_count": null,
      "id": "cbc745be",
      "metadata": {
        "colab": {
          "base_uri": "https://localhost:8080/"
        },
        "id": "cbc745be",
        "outputId": "0a47a62f-f982-4be6-e675-d934043d84c7"
      },
      "outputs": [
        {
          "output_type": "stream",
          "name": "stdout",
          "text": [
            "{'nama_depan': ['Anas', 'Arief'], 'nama_belakang': ['Wicaksono', 'Faizin'], 'unit': ['DBT', 'DBT']}\n"
          ]
        }
      ],
      "source": [
        "print(dictionary)"
      ]
    },
    {
      "cell_type": "code",
      "source": [
        "dictionary['nama_depan']"
      ],
      "metadata": {
        "colab": {
          "base_uri": "https://localhost:8080/"
        },
        "id": "B5Fb4TufhwrP",
        "outputId": "b2fe3f29-9768-4063-d39b-1282b4f24188"
      },
      "id": "B5Fb4TufhwrP",
      "execution_count": null,
      "outputs": [
        {
          "output_type": "execute_result",
          "data": {
            "text/plain": [
              "['Anas', 'Arief']"
            ]
          },
          "metadata": {},
          "execution_count": 54
        }
      ]
    },
    {
      "cell_type": "code",
      "execution_count": null,
      "id": "df85b4d8",
      "metadata": {
        "colab": {
          "base_uri": "https://localhost:8080/",
          "height": 35
        },
        "id": "df85b4d8",
        "outputId": "12403be3-86a1-4f68-e091-ee3b007c52bd"
      },
      "outputs": [
        {
          "output_type": "execute_result",
          "data": {
            "text/plain": [
              "'Anas'"
            ],
            "application/vnd.google.colaboratory.intrinsic+json": {
              "type": "string"
            }
          },
          "metadata": {},
          "execution_count": 56
        }
      ],
      "source": [
        "dictionary['nama_depan'][0]"
      ]
    },
    {
      "cell_type": "markdown",
      "id": "358236eb",
      "metadata": {
        "id": "358236eb"
      },
      "source": [
        "# IF Statement"
      ]
    },
    {
      "cell_type": "markdown",
      "id": "e3ea430f",
      "metadata": {
        "id": "e3ea430f"
      },
      "source": [
        "### IF statement ketika syarat/condition tidak terpenuhi"
      ]
    },
    {
      "cell_type": "code",
      "execution_count": null,
      "id": "b56568db",
      "metadata": {
        "id": "b56568db"
      },
      "outputs": [],
      "source": [
        "nilai = 70 #condition tidak terpenuhi\n",
        "\n",
        "if(nilai>=75):\n",
        "    print(\"lulus\")"
      ]
    },
    {
      "cell_type": "markdown",
      "id": "d057a00d",
      "metadata": {
        "id": "d057a00d"
      },
      "source": [
        "### IF Statement ketika syarat/condition terpenuhi"
      ]
    },
    {
      "cell_type": "code",
      "execution_count": null,
      "id": "77e1d7e9",
      "metadata": {
        "id": "77e1d7e9",
        "colab": {
          "base_uri": "https://localhost:8080/"
        },
        "outputId": "b934b2eb-c997-41b4-922f-57686887658a"
      },
      "outputs": [
        {
          "output_type": "stream",
          "name": "stdout",
          "text": [
            "lulus\n"
          ]
        }
      ],
      "source": [
        "nilai = 75\n",
        "\n",
        "if(nilai>=75):\n",
        "    print(\"lulus\")"
      ]
    },
    {
      "cell_type": "markdown",
      "id": "83660a1e",
      "metadata": {
        "id": "83660a1e"
      },
      "source": [
        "# IF... ELSE... Statement"
      ]
    },
    {
      "cell_type": "markdown",
      "id": "b38473d6",
      "metadata": {
        "id": "b38473d6"
      },
      "source": [
        "bahasa manusianya JIKA ..... MAKA .... JIKA TIDAK , MAKA ..."
      ]
    },
    {
      "cell_type": "code",
      "execution_count": null,
      "id": "697e54e5",
      "metadata": {
        "colab": {
          "base_uri": "https://localhost:8080/"
        },
        "id": "697e54e5",
        "outputId": "ecf1cde2-90ed-4230-a95b-1d8d7211eb0b"
      },
      "outputs": [
        {
          "output_type": "stream",
          "name": "stdout",
          "text": [
            "lulus\n"
          ]
        }
      ],
      "source": [
        "nilai = 80\n",
        "\n",
        "if(nilai >=75):\n",
        "    print(\"lulus\")\n",
        "else :\n",
        "    print(\"tidak lulus\")"
      ]
    },
    {
      "cell_type": "markdown",
      "id": "1ed5d4b1",
      "metadata": {
        "id": "1ed5d4b1"
      },
      "source": [
        "# IF... ELIF... ELSE Statement"
      ]
    },
    {
      "cell_type": "code",
      "execution_count": null,
      "id": "0c26a0d6",
      "metadata": {
        "colab": {
          "base_uri": "https://localhost:8080/"
        },
        "id": "0c26a0d6",
        "outputId": "c38a3c5f-d1aa-4842-e99e-9d53e251587c"
      },
      "outputs": [
        {
          "output_type": "stream",
          "name": "stdout",
          "text": [
            "tidak lulus\n"
          ]
        }
      ],
      "source": [
        "nilai = 64\n",
        "\n",
        "if(nilai>=85): #nilai >= 85 nilai A\n",
        "    print(\"nilai A\")\n",
        "elif(80<=nilai<85): #nilai antara 80 - 84.99 A-\n",
        "    print(\"Nilai A-\")\n",
        "elif(70<=nilai<80): #nilai antara 70 - 79.99 B\n",
        "    print(\"Nilai B\")\n",
        "elif(65<=nilai<70): #nilai antara 65 - 69.99 C\n",
        "    print(\"Nilai C\")\n",
        "else: #selain itu tidak tulus\n",
        "    print(\"tidak lulus\")"
      ]
    },
    {
      "cell_type": "markdown",
      "id": "7320ac35",
      "metadata": {
        "id": "7320ac35"
      },
      "source": [
        "# NESTED IF"
      ]
    },
    {
      "cell_type": "markdown",
      "id": "2d8ec693",
      "metadata": {
        "id": "2d8ec693"
      },
      "source": [
        "pengecekan bertingkat"
      ]
    },
    {
      "cell_type": "code",
      "execution_count": null,
      "id": "24551909",
      "metadata": {
        "colab": {
          "base_uri": "https://localhost:8080/"
        },
        "id": "24551909",
        "outputId": "610d44cf-bd88-4e68-b7f4-83a318dccd05"
      },
      "outputs": [
        {
          "output_type": "stream",
          "name": "stdout",
          "text": [
            "Nilai antara 75 - 84.99\n"
          ]
        }
      ],
      "source": [
        "nilai = 76\n",
        "if(nilai>=85):\n",
        "    print(\"Nilai lebih dari 85\")\n",
        "if(75<=nilai<85):\n",
        "    print(\"Nilai antara 75 - 84.99\")\n",
        "else:\n",
        "    print(\"nilai dibawah 75\")\n"
      ]
    },
    {
      "cell_type": "code",
      "execution_count": null,
      "id": "97e435e0",
      "metadata": {
        "colab": {
          "base_uri": "https://localhost:8080/"
        },
        "id": "97e435e0",
        "outputId": "adc81f52-7259-4487-abe3-59d5b8d10b39"
      },
      "outputs": [
        {
          "output_type": "stream",
          "name": "stdout",
          "text": [
            "nilai kurang dari 9\n",
            "nilai lebih besar dari 5 tapi kurang dari 9\n"
          ]
        }
      ],
      "source": [
        "nilai = 6\n",
        "if(nilai<9):\n",
        "    print(\"nilai kurang dari 9\")\n",
        "    if(nilai<5):\n",
        "        print(\"nilai kurang dari 5 dan 9\")\n",
        "    else:\n",
        "        print(\"nilai lebih besar dari 5 tapi kurang dari 9\")"
      ]
    },
    {
      "cell_type": "markdown",
      "id": "7d68c299",
      "metadata": {
        "id": "7d68c299"
      },
      "source": [
        "# WHILE LOOP"
      ]
    },
    {
      "cell_type": "markdown",
      "source": [
        "Selama kondisinya terpenuhi / TRUE dia akan terus looping"
      ],
      "metadata": {
        "id": "4u3uW9fTjdYw"
      },
      "id": "4u3uW9fTjdYw"
    },
    {
      "cell_type": "code",
      "execution_count": null,
      "id": "46884f6c",
      "metadata": {
        "id": "46884f6c",
        "colab": {
          "base_uri": "https://localhost:8080/"
        },
        "outputId": "8ef30483-7dda-4006-f538-70e6a4aacbc1"
      },
      "outputs": [
        {
          "output_type": "stream",
          "name": "stdout",
          "text": [
            "ini adalah angka ke  1\n",
            "ini adalah angka ke  2\n",
            "ini adalah angka ke  3\n",
            "ini adalah angka ke  4\n",
            "ini adalah angka ke  5\n",
            "ini adalah angka ke  6\n",
            "ini adalah angka ke  7\n",
            "ini adalah angka ke  8\n",
            "ini adalah angka ke  9\n"
          ]
        }
      ],
      "source": [
        "a = 1\n",
        "\n",
        "while a<10:\n",
        "    print(\"ini adalah angka ke \",a)\n",
        "    a=a+1"
      ]
    },
    {
      "cell_type": "markdown",
      "id": "c1747edd",
      "metadata": {
        "id": "c1747edd"
      },
      "source": [
        "# FOR LOOP"
      ]
    },
    {
      "cell_type": "code",
      "execution_count": null,
      "id": "55e7db0c",
      "metadata": {
        "colab": {
          "base_uri": "https://localhost:8080/"
        },
        "id": "55e7db0c",
        "outputId": "6e79e64d-8bf4-4256-e8d4-c234872d9721"
      },
      "outputs": [
        {
          "output_type": "stream",
          "name": "stdout",
          "text": [
            "0\n",
            "1\n",
            "2\n",
            "3\n",
            "4\n",
            "5\n",
            "6\n",
            "7\n",
            "8\n",
            "9\n",
            "10\n",
            "11\n",
            "12\n",
            "13\n",
            "14\n",
            "15\n",
            "16\n",
            "17\n",
            "18\n",
            "19\n"
          ]
        }
      ],
      "source": [
        "for x in range (20): #20 artinya 20 angka pertama, dimulai dari 0 - 19\n",
        "    print(x)"
      ]
    },
    {
      "cell_type": "markdown",
      "id": "a48a63a2",
      "metadata": {
        "id": "a48a63a2"
      },
      "source": [
        "# Function"
      ]
    },
    {
      "cell_type": "markdown",
      "source": [
        "code yang akan berjalan ketika dipanggil, kita bisa bikin parameter yang bisa dimasukkan"
      ],
      "metadata": {
        "id": "pi0sNR-Zj3VZ"
      },
      "id": "pi0sNR-Zj3VZ"
    },
    {
      "cell_type": "code",
      "execution_count": null,
      "id": "77739d68",
      "metadata": {
        "id": "77739d68"
      },
      "outputs": [],
      "source": [
        "#mengukur volume kubus\n",
        "\n",
        "def volume_kubus1(sisi1,sisi2,tinggi):\n",
        "    volume = sisi1 * sisi2 * tinggi\n",
        "    print(\"luas kubus ini adalah \",volume,\" cm3\")"
      ]
    },
    {
      "cell_type": "code",
      "execution_count": null,
      "id": "0db4e32d",
      "metadata": {
        "colab": {
          "base_uri": "https://localhost:8080/"
        },
        "id": "0db4e32d",
        "outputId": "a5165a6e-1d9d-45e9-a7fc-80ee361c7a2f"
      },
      "outputs": [
        {
          "output_type": "stream",
          "name": "stdout",
          "text": [
            "luas kubus ini adalah  160  cm3\n"
          ]
        }
      ],
      "source": [
        "volume_kubus1(4,4,10)"
      ]
    },
    {
      "cell_type": "code",
      "execution_count": null,
      "id": "fffbfbdd",
      "metadata": {
        "id": "fffbfbdd"
      },
      "outputs": [],
      "source": [
        "def volume_kubus2(sisi1,sisi2,tinggi):\n",
        "    volume = sisi1 * sisi2 * tinggi\n",
        "    return volume"
      ]
    },
    {
      "cell_type": "code",
      "execution_count": null,
      "id": "91bed835",
      "metadata": {
        "colab": {
          "base_uri": "https://localhost:8080/"
        },
        "id": "91bed835",
        "outputId": "d6f2eaa8-73da-4e6a-a300-3d5398cae858"
      },
      "outputs": [
        {
          "output_type": "execute_result",
          "data": {
            "text/plain": [
              "160"
            ]
          },
          "metadata": {},
          "execution_count": 53
        }
      ],
      "source": [
        "volume_kubus2(4,4,10)"
      ]
    },
    {
      "cell_type": "markdown",
      "source": [
        "# CHALLENGE"
      ],
      "metadata": {
        "id": "7KrX5xgckUN1"
      },
      "id": "7KrX5xgckUN1"
    },
    {
      "cell_type": "markdown",
      "id": "5f0e0104",
      "metadata": {
        "id": "5f0e0104"
      },
      "source": [
        "# Import Library"
      ]
    },
    {
      "cell_type": "code",
      "execution_count": null,
      "id": "5e98190d",
      "metadata": {
        "id": "5e98190d"
      },
      "outputs": [],
      "source": [
        "import pandas as pd\n",
        "import numpy as np\n",
        "import seaborn as sns\n",
        "import matplotlib.pyplot as plt"
      ]
    },
    {
      "cell_type": "code",
      "source": [
        "from google.colab import drive\n",
        "drive.mount('/content/gdrive', force_remount=True)"
      ],
      "metadata": {
        "colab": {
          "base_uri": "https://localhost:8080/"
        },
        "id": "GdyeXFTlNKes",
        "outputId": "3d61db1f-37d0-4cde-f1b9-b78cdea80be8"
      },
      "id": "GdyeXFTlNKes",
      "execution_count": null,
      "outputs": [
        {
          "output_type": "stream",
          "name": "stdout",
          "text": [
            "Mounted at /content/gdrive\n"
          ]
        }
      ]
    },
    {
      "cell_type": "code",
      "source": [
        "root = '/content/gdrive/MyDrive/SobatLIT/' #ubah sesuai directory di GDRIVE masing-masing"
      ],
      "metadata": {
        "id": "iyJIK0bANtIz"
      },
      "id": "iyJIK0bANtIz",
      "execution_count": null,
      "outputs": []
    },
    {
      "cell_type": "markdown",
      "id": "91f053b1",
      "metadata": {
        "id": "91f053b1"
      },
      "source": [
        "### Read CSV menggunakan Pandas"
      ]
    },
    {
      "cell_type": "code",
      "execution_count": null,
      "id": "1937abc7",
      "metadata": {
        "id": "1937abc7"
      },
      "outputs": [],
      "source": [
        "## read csv credit_history.csv\n",
        "dataset = pd.read_csv(root+'/vgsales.csv')"
      ]
    },
    {
      "cell_type": "markdown",
      "id": "06d7458f",
      "metadata": {
        "id": "06d7458f"
      },
      "source": [
        "### Berfungsi untuk menunjukkan informasi / rangkuman secara umum terkait dataset yang akan diolah"
      ]
    },
    {
      "cell_type": "code",
      "execution_count": null,
      "id": "f97d59fb",
      "metadata": {
        "colab": {
          "base_uri": "https://localhost:8080/"
        },
        "id": "f97d59fb",
        "outputId": "88ba0061-deba-48c7-b3b0-89010e1545d8"
      },
      "outputs": [
        {
          "output_type": "stream",
          "name": "stdout",
          "text": [
            "<class 'pandas.core.frame.DataFrame'>\n",
            "RangeIndex: 16598 entries, 0 to 16597\n",
            "Data columns (total 11 columns):\n",
            " #   Column        Non-Null Count  Dtype  \n",
            "---  ------        --------------  -----  \n",
            " 0   Rank          16598 non-null  int64  \n",
            " 1   Name          16598 non-null  object \n",
            " 2   Platform      16598 non-null  object \n",
            " 3   Year          16327 non-null  float64\n",
            " 4   Genre         16598 non-null  object \n",
            " 5   Publisher     16540 non-null  object \n",
            " 6   NA_Sales      16598 non-null  float64\n",
            " 7   EU_Sales      16598 non-null  float64\n",
            " 8   JP_Sales      16598 non-null  float64\n",
            " 9   Other_Sales   16598 non-null  float64\n",
            " 10  Global_Sales  16598 non-null  float64\n",
            "dtypes: float64(6), int64(1), object(4)\n",
            "memory usage: 1.4+ MB\n"
          ]
        }
      ],
      "source": [
        "dataset.info()"
      ]
    },
    {
      "cell_type": "markdown",
      "id": "95d8e622",
      "metadata": {
        "id": "95d8e622"
      },
      "source": [
        "### Berfungsi untuk melihat tipe data yang ada di dalam dataset"
      ]
    },
    {
      "cell_type": "code",
      "execution_count": null,
      "id": "97d730df",
      "metadata": {
        "colab": {
          "base_uri": "https://localhost:8080/"
        },
        "id": "97d730df",
        "outputId": "98df1247-f7b8-462f-d0e1-33e05eb58028"
      },
      "outputs": [
        {
          "output_type": "execute_result",
          "data": {
            "text/plain": [
              "Rank              int64\n",
              "Name             object\n",
              "Platform         object\n",
              "Year            float64\n",
              "Genre            object\n",
              "Publisher        object\n",
              "NA_Sales        float64\n",
              "EU_Sales        float64\n",
              "JP_Sales        float64\n",
              "Other_Sales     float64\n",
              "Global_Sales    float64\n",
              "dtype: object"
            ]
          },
          "metadata": {},
          "execution_count": 30
        }
      ],
      "source": [
        "dataset.dtypes #pastikan benar data typesnya"
      ]
    },
    {
      "cell_type": "markdown",
      "id": "6afce6a2",
      "metadata": {
        "id": "6afce6a2"
      },
      "source": [
        "### Berfungsi untuk melihat ada berapa missing value (NULL VALUE) dalam setiap kolom pada dataset"
      ]
    },
    {
      "cell_type": "code",
      "execution_count": null,
      "id": "8e0e96d9",
      "metadata": {
        "colab": {
          "base_uri": "https://localhost:8080/"
        },
        "id": "8e0e96d9",
        "outputId": "8402220b-c923-46bf-c669-16bcf4ca8226"
      },
      "outputs": [
        {
          "output_type": "execute_result",
          "data": {
            "text/plain": [
              "Rank              0\n",
              "Name              0\n",
              "Platform          0\n",
              "Year            271\n",
              "Genre             0\n",
              "Publisher        58\n",
              "NA_Sales          0\n",
              "EU_Sales          0\n",
              "JP_Sales          0\n",
              "Other_Sales       0\n",
              "Global_Sales      0\n",
              "dtype: int64"
            ]
          },
          "metadata": {},
          "execution_count": 59
        }
      ],
      "source": [
        "dataset.isnull().sum() #cek kolom mana yang memiliki missing value dan berapa jumlahnya"
      ]
    },
    {
      "cell_type": "markdown",
      "id": "b716db73",
      "metadata": {
        "id": "b716db73"
      },
      "source": [
        "### Memvisualisasikan Missing Value"
      ]
    },
    {
      "cell_type": "code",
      "execution_count": null,
      "id": "0de811b0",
      "metadata": {
        "colab": {
          "base_uri": "https://localhost:8080/",
          "height": 324
        },
        "id": "0de811b0",
        "outputId": "a59c4538-58ae-4d1b-8687-d8b0ca36f771"
      },
      "outputs": [
        {
          "output_type": "display_data",
          "data": {
            "text/plain": [
              "<Figure size 432x288 with 1 Axes>"
            ],
            "image/png": "[encoded data removed]"
          },
          "metadata": {
            "needs_background": "light"
          }
        }
      ],
      "source": [
        "sns.heatmap(dataset.isnull(),cbar=False,cmap='viridis')\n",
        "sns.set(rc={'figure.figsize':(20,20)})"
      ]
    },
    {
      "cell_type": "markdown",
      "id": "8365ad44",
      "metadata": {
        "id": "8365ad44"
      },
      "source": [
        "jika terlihat ada garis-garis seperti di atas berakhir variable / kolom pada dataset tersebut memiliki missing value"
      ]
    },
    {
      "cell_type": "markdown",
      "id": "993c1d19",
      "metadata": {
        "id": "993c1d19"
      },
      "source": [
        "# Challenge : Coba Isi Data yang kosong pada kolom Year (kita sebut Data Imputation) dengan nilai Modus"
      ]
    },
    {
      "cell_type": "code",
      "execution_count": null,
      "id": "e2aadd4d",
      "metadata": {
        "id": "e2aadd4d"
      },
      "outputs": [],
      "source": [
        "dataset['Year'].fillna(dataset['Year'].mode()[0], inplace=True)"
      ]
    },
    {
      "cell_type": "code",
      "execution_count": null,
      "id": "15a508b5",
      "metadata": {
        "colab": {
          "base_uri": "https://localhost:8080/"
        },
        "id": "15a508b5",
        "outputId": "3210f82b-eff4-4042-dfdb-e424889d01e9"
      },
      "outputs": [
        {
          "output_type": "execute_result",
          "data": {
            "text/plain": [
              "Rank             0\n",
              "Name             0\n",
              "Platform         0\n",
              "Year             0\n",
              "Genre            0\n",
              "Publisher       58\n",
              "NA_Sales         0\n",
              "EU_Sales         0\n",
              "JP_Sales         0\n",
              "Other_Sales      0\n",
              "Global_Sales     0\n",
              "dtype: int64"
            ]
          },
          "metadata": {},
          "execution_count": 62
        }
      ],
      "source": [
        "#recheck apakah nilai NULL pada kolom Year sudah terisi\n",
        "dataset.isnull().sum() #cek kolom mana yang memiliki missing value dan berapa jumlahnya"
      ]
    },
    {
      "cell_type": "markdown",
      "id": "e2c57f99",
      "metadata": {
        "id": "e2c57f99"
      },
      "source": [
        "lanjutkan proses imputation pada kolom publisher"
      ]
    },
    {
      "cell_type": "code",
      "execution_count": null,
      "id": "426d4a25",
      "metadata": {
        "id": "426d4a25"
      },
      "outputs": [],
      "source": [
        "dataset['Publisher'].fillna(dataset['Publisher'].mode()[0], inplace=True)"
      ]
    },
    {
      "cell_type": "code",
      "execution_count": null,
      "id": "0f1baa07",
      "metadata": {
        "colab": {
          "base_uri": "https://localhost:8080/"
        },
        "id": "0f1baa07",
        "outputId": "7cbaa647-7ee3-4d0e-aa8d-725008651688"
      },
      "outputs": [
        {
          "output_type": "execute_result",
          "data": {
            "text/plain": [
              "Rank            0\n",
              "Name            0\n",
              "Platform        0\n",
              "Year            0\n",
              "Genre           0\n",
              "Publisher       0\n",
              "NA_Sales        0\n",
              "EU_Sales        0\n",
              "JP_Sales        0\n",
              "Other_Sales     0\n",
              "Global_Sales    0\n",
              "dtype: int64"
            ]
          },
          "metadata": {},
          "execution_count": 37
        }
      ],
      "source": [
        "dataset.isnull().sum() #cek kolom mana yang memiliki missing value dan berapa jumlahnya"
      ]
    },
    {
      "cell_type": "markdown",
      "id": "a61fc21c",
      "metadata": {
        "id": "a61fc21c"
      },
      "source": [
        "### Memvisualisasikan Missing Value Setelah Dilakukan Imputation"
      ]
    },
    {
      "cell_type": "code",
      "execution_count": null,
      "id": "221e6ee4",
      "metadata": {
        "colab": {
          "base_uri": "https://localhost:8080/",
          "height": 1000
        },
        "id": "221e6ee4",
        "outputId": "3e0c4a38-7b8d-4adc-bc85-df16b8b1c49c"
      },
      "outputs": [
        {
          "output_type": "display_data",
          "data": {
            "text/plain": [
              "<Figure size 1440x1440 with 1 Axes>"
            ],
            "image/png": "[encoded data removed]"
          },
          "metadata": {}
        }
      ],
      "source": [
        "sns.heatmap(dataset.isnull(),cbar=False,cmap='viridis')\n",
        "sns.set(rc={'figure.figsize':(15,15)})"
      ]
    },
    {
      "cell_type": "markdown",
      "id": "0b57c918",
      "metadata": {
        "id": "0b57c918"
      },
      "source": [
        "### Membuat Correlation Map, melihat korelasi antar variable numerik yang ada pada dataset"
      ]
    },
    {
      "cell_type": "code",
      "execution_count": null,
      "id": "2b39bca2",
      "metadata": {
        "colab": {
          "base_uri": "https://localhost:8080/",
          "height": 888
        },
        "id": "2b39bca2",
        "outputId": "bbcdd405-ca01-45f6-8c05-4cc65739a59f"
      },
      "outputs": [
        {
          "output_type": "execute_result",
          "data": {
            "text/plain": [
              "<matplotlib.axes._subplots.AxesSubplot at 0x7fb2a7265b10>"
            ]
          },
          "metadata": {},
          "execution_count": 48
        },
        {
          "output_type": "display_data",
          "data": {
            "text/plain": [
              "<Figure size 1080x1080 with 2 Axes>"
            ],
            "image/png": "[encoded data removed]"
          },
          "metadata": {}
        }
      ],
      "source": [
        "plt.figure(figsize=(15,15))\n",
        "sns.heatmap(dataset.corr(),cbar=True,annot=True,linecolor = 'White', linewidth=1,cmap='Reds')"
      ]
    },
    {
      "cell_type": "markdown",
      "id": "8b2a4acf",
      "metadata": {
        "id": "8b2a4acf"
      },
      "source": [
        "### Head berfungsi untuk melihat beberapa data teratas pada dataset, defaultnya akan menunjukkan 5 row"
      ]
    },
    {
      "cell_type": "code",
      "execution_count": null,
      "id": "f0b0c23c",
      "metadata": {
        "colab": {
          "base_uri": "https://localhost:8080/",
          "height": 206
        },
        "id": "f0b0c23c",
        "outputId": "fffbc4f0-618a-4a02-faab-9f5711053a38"
      },
      "outputs": [
        {
          "output_type": "execute_result",
          "data": {
            "text/plain": [
              "   Rank                      Name Platform    Year         Genre Publisher  \\\n",
              "0     1                Wii Sports      Wii  2006.0        Sports  Nintendo   \n",
              "1     2         Super Mario Bros.      NES  1985.0      Platform  Nintendo   \n",
              "2     3            Mario Kart Wii      Wii  2008.0        Racing  Nintendo   \n",
              "3     4         Wii Sports Resort      Wii  2009.0        Sports  Nintendo   \n",
              "4     5  Pokemon Red/Pokemon Blue       GB  1996.0  Role-Playing  Nintendo   \n",
              "\n",
              "   NA_Sales  EU_Sales  JP_Sales  Other_Sales  Global_Sales  \n",
              "0     41.49     29.02      3.77         8.46         82.74  \n",
              "1     29.08      3.58      6.81         0.77         40.24  \n",
              "2     15.85     12.88      3.79         3.31         35.82  \n",
              "3     15.75     11.01      3.28         2.96         33.00  \n",
              "4     11.27      8.89     10.22         1.00         31.37  "
            ],
            "text/html": [
              "\n",
              "  <div id=\"df-e9749409-4c9e-474c-a515-c01c5d242e73\">\n",
              "    <div class=\"colab-df-container\">\n",
              "      <div>\n",
              "<style scoped>\n",
              "    .dataframe tbody tr th:only-of-type {\n",
              "        vertical-align: middle;\n",
              "    }\n",
              "\n",
              "    .dataframe tbody tr th {\n",
              "        vertical-align: top;\n",
              "    }\n",
              "\n",
              "    .dataframe thead th {\n",
              "        text-align: right;\n",
              "    }\n",
              "</style>\n",
              "<table border=\"1\" class=\"dataframe\">\n",
              "  <thead>\n",
              "    <tr style=\"text-align: right;\">\n",
              "      <th></th>\n",
              "      <th>Rank</th>\n",
              "      <th>Name</th>\n",
              "      <th>Platform</th>\n",
              "      <th>Year</th>\n",
              "      <th>Genre</th>\n",
              "      <th>Publisher</th>\n",
              "      <th>NA_Sales</th>\n",
              "      <th>EU_Sales</th>\n",
              "      <th>JP_Sales</th>\n",
              "      <th>Other_Sales</th>\n",
              "      <th>Global_Sales</th>\n",
              "    </tr>\n",
              "  </thead>\n",
              "  <tbody>\n",
              "    <tr>\n",
              "      <th>0</th>\n",
              "      <td>1</td>\n",
              "      <td>Wii Sports</td>\n",
              "      <td>Wii</td>\n",
              "      <td>2006.0</td>\n",
              "      <td>Sports</td>\n",
              "      <td>Nintendo</td>\n",
              "      <td>41.49</td>\n",
              "      <td>29.02</td>\n",
              "      <td>3.77</td>\n",
              "      <td>8.46</td>\n",
              "      <td>82.74</td>\n",
              "    </tr>\n",
              "    <tr>\n",
              "      <th>1</th>\n",
              "      <td>2</td>\n",
              "      <td>Super Mario Bros.</td>\n",
              "      <td>NES</td>\n",
              "      <td>1985.0</td>\n",
              "      <td>Platform</td>\n",
              "      <td>Nintendo</td>\n",
              "      <td>29.08</td>\n",
              "      <td>3.58</td>\n",
              "      <td>6.81</td>\n",
              "      <td>0.77</td>\n",
              "      <td>40.24</td>\n",
              "    </tr>\n",
              "    <tr>\n",
              "      <th>2</th>\n",
              "      <td>3</td>\n",
              "      <td>Mario Kart Wii</td>\n",
              "      <td>Wii</td>\n",
              "      <td>2008.0</td>\n",
              "      <td>Racing</td>\n",
              "      <td>Nintendo</td>\n",
              "      <td>15.85</td>\n",
              "      <td>12.88</td>\n",
              "      <td>3.79</td>\n",
              "      <td>3.31</td>\n",
              "      <td>35.82</td>\n",
              "    </tr>\n",
              "    <tr>\n",
              "      <th>3</th>\n",
              "      <td>4</td>\n",
              "      <td>Wii Sports Resort</td>\n",
              "      <td>Wii</td>\n",
              "      <td>2009.0</td>\n",
              "      <td>Sports</td>\n",
              "      <td>Nintendo</td>\n",
              "      <td>15.75</td>\n",
              "      <td>11.01</td>\n",
              "      <td>3.28</td>\n",
              "      <td>2.96</td>\n",
              "      <td>33.00</td>\n",
              "    </tr>\n",
              "    <tr>\n",
              "      <th>4</th>\n",
              "      <td>5</td>\n",
              "      <td>Pokemon Red/Pokemon Blue</td>\n",
              "      <td>GB</td>\n",
              "      <td>1996.0</td>\n",
              "      <td>Role-Playing</td>\n",
              "      <td>Nintendo</td>\n",
              "      <td>11.27</td>\n",
              "      <td>8.89</td>\n",
              "      <td>10.22</td>\n",
              "      <td>1.00</td>\n",
              "      <td>31.37</td>\n",
              "    </tr>\n",
              "  </tbody>\n",
              "</table>\n",
              "</div>\n",
              "      <button class=\"colab-df-convert\" onclick=\"convertToInteractive('df-e9749409-4c9e-474c-a515-c01c5d242e73')\"\n",
              "              title=\"Convert this dataframe to an interactive table.\"\n",
              "              style=\"display:none;\">\n",
              "        \n",
              "  <svg xmlns=\"http://www.w3.org/2000/svg\" height=\"24px\"viewBox=\"0 0 24 24\"\n",
              "       width=\"24px\">\n",
              "    <path d=\"M0 0h24v24H0V0z\" fill=\"none\"/>\n",
              "    <path d=\"M18.56 5.44l.94 2.06.94-2.06 2.06-.94-2.06-.94-.94-2.06-.94 2.06-2.06.94zm-11 1L8.5 8.5l.94-2.06 2.06-.94-2.06-.94L8.5 2.5l-.94 2.06-2.06.94zm10 10l.94 2.06.94-2.06 2.06-.94-2.06-.94-.94-2.06-.94 2.06-2.06.94z\"/><path d=\"M17.41 7.96l-1.37-1.37c-.4-.4-.92-.59-1.43-.59-.52 0-1.04.2-1.43.59L10.3 9.45l-7.72 7.72c-.78.78-.78 2.05 0 2.83L4 21.41c.39.39.9.59 1.41.59.51 0 1.02-.2 1.41-.59l7.78-7.78 2.81-2.81c.8-.78.8-2.07 0-2.86zM5.41 20L4 18.59l7.72-7.72 1.47 1.35L5.41 20z\"/>\n",
              "  </svg>\n",
              "      </button>\n",
              "      \n",
              "  <style>\n",
              "    .colab-df-container {\n",
              "      display:flex;\n",
              "      flex-wrap:wrap;\n",
              "      gap: 12px;\n",
              "    }\n",
              "\n",
              "    .colab-df-convert {\n",
              "      background-color: #E8F0FE;\n",
              "      border: none;\n",
              "      border-radius: 50%;\n",
              "      cursor: pointer;\n",
              "      display: none;\n",
              "      fill: #1967D2;\n",
              "      height: 32px;\n",
              "      padding: 0 0 0 0;\n",
              "      width: 32px;\n",
              "    }\n",
              "\n",
              "    .colab-df-convert:hover {\n",
              "      background-color: #E2EBFA;\n",
              "      box-shadow: 0px 1px 2px rgba(60, 64, 67, 0.3), 0px 1px 3px 1px rgba(60, 64, 67, 0.15);\n",
              "      fill: #174EA6;\n",
              "    }\n",
              "\n",
              "    [theme=dark] .colab-df-convert {\n",
              "      background-color: #3B4455;\n",
              "      fill: #D2E3FC;\n",
              "    }\n",
              "\n",
              "    [theme=dark] .colab-df-convert:hover {\n",
              "      background-color: #434B5C;\n",
              "      box-shadow: 0px 1px 3px 1px rgba(0, 0, 0, 0.15);\n",
              "      filter: drop-shadow(0px 1px 2px rgba(0, 0, 0, 0.3));\n",
              "      fill: #FFFFFF;\n",
              "    }\n",
              "  </style>\n",
              "\n",
              "      <script>\n",
              "        const buttonEl =\n",
              "          document.querySelector('#df-e9749409-4c9e-474c-a515-c01c5d242e73 button.colab-df-convert');\n",
              "        buttonEl.style.display =\n",
              "          google.colab.kernel.accessAllowed ? 'block' : 'none';\n",
              "\n",
              "        async function convertToInteractive(key) {\n",
              "          const element = document.querySelector('#df-e9749409-4c9e-474c-a515-c01c5d242e73');\n",
              "          const dataTable =\n",
              "            await google.colab.kernel.invokeFunction('convertToInteractive',\n",
              "                                                     [key], {});\n",
              "          if (!dataTable) return;\n",
              "\n",
              "          const docLinkHtml = 'Like what you see? Visit the ' +\n",
              "            '<a target=\"_blank\" href=https://colab.research.google.com/notebooks/data_table.ipynb>data table notebook</a>'\n",
              "            + ' to learn more about interactive tables.';\n",
              "          element.innerHTML = '';\n",
              "          dataTable['output_type'] = 'display_data';\n",
              "          await google.colab.output.renderOutput(dataTable, element);\n",
              "          const docLink = document.createElement('div');\n",
              "          docLink.innerHTML = docLinkHtml;\n",
              "          element.appendChild(docLink);\n",
              "        }\n",
              "      </script>\n",
              "    </div>\n",
              "  </div>\n",
              "  "
            ]
          },
          "metadata": {},
          "execution_count": 63
        }
      ],
      "source": [
        "dataset.head()"
      ]
    },
    {
      "cell_type": "markdown",
      "id": "c9ca256b",
      "metadata": {
        "id": "c9ca256b"
      },
      "source": [
        "### Tail berfungsi untuk melihat beberapa data terbawah pada dataset, defaultnya akan menunjukkan 5 row"
      ]
    },
    {
      "cell_type": "code",
      "execution_count": null,
      "id": "0e6b4b17",
      "metadata": {
        "colab": {
          "base_uri": "https://localhost:8080/",
          "height": 206
        },
        "id": "0e6b4b17",
        "outputId": "22c26130-25b7-4264-d60b-89fef26e7e32"
      },
      "outputs": [
        {
          "output_type": "execute_result",
          "data": {
            "text/plain": [
              "        Rank                                              Name Platform  \\\n",
              "16593  16596                Woody Woodpecker in Crazy Castle 5      GBA   \n",
              "16594  16597                     Men in Black II: Alien Escape       GC   \n",
              "16595  16598  SCORE International Baja 1000: The Official Game      PS2   \n",
              "16596  16599                                        Know How 2       DS   \n",
              "16597  16600                                  Spirits & Spells      GBA   \n",
              "\n",
              "         Year     Genre   Publisher  NA_Sales  EU_Sales  JP_Sales  \\\n",
              "16593  2002.0  Platform       Kemco      0.01      0.00       0.0   \n",
              "16594  2003.0   Shooter  Infogrames      0.01      0.00       0.0   \n",
              "16595  2008.0    Racing  Activision      0.00      0.00       0.0   \n",
              "16596  2010.0    Puzzle    7G//AMES      0.00      0.01       0.0   \n",
              "16597  2003.0  Platform     Wanadoo      0.01      0.00       0.0   \n",
              "\n",
              "       Other_Sales  Global_Sales  \n",
              "16593          0.0          0.01  \n",
              "16594          0.0          0.01  \n",
              "16595          0.0          0.01  \n",
              "16596          0.0          0.01  \n",
              "16597          0.0          0.01  "
            ],
            "text/html": [
              "\n",
              "  <div id=\"df-8855ba6a-bec8-4ffb-a868-aab27367313a\">\n",
              "    <div class=\"colab-df-container\">\n",
              "      <div>\n",
              "<style scoped>\n",
              "    .dataframe tbody tr th:only-of-type {\n",
              "        vertical-align: middle;\n",
              "    }\n",
              "\n",
              "    .dataframe tbody tr th {\n",
              "        vertical-align: top;\n",
              "    }\n",
              "\n",
              "    .dataframe thead th {\n",
              "        text-align: right;\n",
              "    }\n",
              "</style>\n",
              "<table border=\"1\" class=\"dataframe\">\n",
              "  <thead>\n",
              "    <tr style=\"text-align: right;\">\n",
              "      <th></th>\n",
              "      <th>Rank</th>\n",
              "      <th>Name</th>\n",
              "      <th>Platform</th>\n",
              "      <th>Year</th>\n",
              "      <th>Genre</th>\n",
              "      <th>Publisher</th>\n",
              "      <th>NA_Sales</th>\n",
              "      <th>EU_Sales</th>\n",
              "      <th>JP_Sales</th>\n",
              "      <th>Other_Sales</th>\n",
              "      <th>Global_Sales</th>\n",
              "    </tr>\n",
              "  </thead>\n",
              "  <tbody>\n",
              "    <tr>\n",
              "      <th>16593</th>\n",
              "      <td>16596</td>\n",
              "      <td>Woody Woodpecker in Crazy Castle 5</td>\n",
              "      <td>GBA</td>\n",
              "      <td>2002.0</td>\n",
              "      <td>Platform</td>\n",
              "      <td>Kemco</td>\n",
              "      <td>0.01</td>\n",
              "      <td>0.00</td>\n",
              "      <td>0.0</td>\n",
              "      <td>0.0</td>\n",
              "      <td>0.01</td>\n",
              "    </tr>\n",
              "    <tr>\n",
              "      <th>16594</th>\n",
              "      <td>16597</td>\n",
              "      <td>Men in Black II: Alien Escape</td>\n",
              "      <td>GC</td>\n",
              "      <td>2003.0</td>\n",
              "      <td>Shooter</td>\n",
              "      <td>Infogrames</td>\n",
              "      <td>0.01</td>\n",
              "      <td>0.00</td>\n",
              "      <td>0.0</td>\n",
              "      <td>0.0</td>\n",
              "      <td>0.01</td>\n",
              "    </tr>\n",
              "    <tr>\n",
              "      <th>16595</th>\n",
              "      <td>16598</td>\n",
              "      <td>SCORE International Baja 1000: The Official Game</td>\n",
              "      <td>PS2</td>\n",
              "      <td>2008.0</td>\n",
              "      <td>Racing</td>\n",
              "      <td>Activision</td>\n",
              "      <td>0.00</td>\n",
              "      <td>0.00</td>\n",
              "      <td>0.0</td>\n",
              "      <td>0.0</td>\n",
              "      <td>0.01</td>\n",
              "    </tr>\n",
              "    <tr>\n",
              "      <th>16596</th>\n",
              "      <td>16599</td>\n",
              "      <td>Know How 2</td>\n",
              "      <td>DS</td>\n",
              "      <td>2010.0</td>\n",
              "      <td>Puzzle</td>\n",
              "      <td>7G//AMES</td>\n",
              "      <td>0.00</td>\n",
              "      <td>0.01</td>\n",
              "      <td>0.0</td>\n",
              "      <td>0.0</td>\n",
              "      <td>0.01</td>\n",
              "    </tr>\n",
              "    <tr>\n",
              "      <th>16597</th>\n",
              "      <td>16600</td>\n",
              "      <td>Spirits &amp; Spells</td>\n",
              "      <td>GBA</td>\n",
              "      <td>2003.0</td>\n",
              "      <td>Platform</td>\n",
              "      <td>Wanadoo</td>\n",
              "      <td>0.01</td>\n",
              "      <td>0.00</td>\n",
              "      <td>0.0</td>\n",
              "      <td>0.0</td>\n",
              "      <td>0.01</td>\n",
              "    </tr>\n",
              "  </tbody>\n",
              "</table>\n",
              "</div>\n",
              "      <button class=\"colab-df-convert\" onclick=\"convertToInteractive('df-8855ba6a-bec8-4ffb-a868-aab27367313a')\"\n",
              "              title=\"Convert this dataframe to an interactive table.\"\n",
              "              style=\"display:none;\">\n",
              "        \n",
              "  <svg xmlns=\"http://www.w3.org/2000/svg\" height=\"24px\"viewBox=\"0 0 24 24\"\n",
              "       width=\"24px\">\n",
              "    <path d=\"M0 0h24v24H0V0z\" fill=\"none\"/>\n",
              "    <path d=\"M18.56 5.44l.94 2.06.94-2.06 2.06-.94-2.06-.94-.94-2.06-.94 2.06-2.06.94zm-11 1L8.5 8.5l.94-2.06 2.06-.94-2.06-.94L8.5 2.5l-.94 2.06-2.06.94zm10 10l.94 2.06.94-2.06 2.06-.94-2.06-.94-.94-2.06-.94 2.06-2.06.94z\"/><path d=\"M17.41 7.96l-1.37-1.37c-.4-.4-.92-.59-1.43-.59-.52 0-1.04.2-1.43.59L10.3 9.45l-7.72 7.72c-.78.78-.78 2.05 0 2.83L4 21.41c.39.39.9.59 1.41.59.51 0 1.02-.2 1.41-.59l7.78-7.78 2.81-2.81c.8-.78.8-2.07 0-2.86zM5.41 20L4 18.59l7.72-7.72 1.47 1.35L5.41 20z\"/>\n",
              "  </svg>\n",
              "      </button>\n",
              "      \n",
              "  <style>\n",
              "    .colab-df-container {\n",
              "      display:flex;\n",
              "      flex-wrap:wrap;\n",
              "      gap: 12px;\n",
              "    }\n",
              "\n",
              "    .colab-df-convert {\n",
              "      background-color: #E8F0FE;\n",
              "      border: none;\n",
              "      border-radius: 50%;\n",
              "      cursor: pointer;\n",
              "      display: none;\n",
              "      fill: #1967D2;\n",
              "      height: 32px;\n",
              "      padding: 0 0 0 0;\n",
              "      width: 32px;\n",
              "    }\n",
              "\n",
              "    .colab-df-convert:hover {\n",
              "      background-color: #E2EBFA;\n",
              "      box-shadow: 0px 1px 2px rgba(60, 64, 67, 0.3), 0px 1px 3px 1px rgba(60, 64, 67, 0.15);\n",
              "      fill: #174EA6;\n",
              "    }\n",
              "\n",
              "    [theme=dark] .colab-df-convert {\n",
              "      background-color: #3B4455;\n",
              "      fill: #D2E3FC;\n",
              "    }\n",
              "\n",
              "    [theme=dark] .colab-df-convert:hover {\n",
              "      background-color: #434B5C;\n",
              "      box-shadow: 0px 1px 3px 1px rgba(0, 0, 0, 0.15);\n",
              "      filter: drop-shadow(0px 1px 2px rgba(0, 0, 0, 0.3));\n",
              "      fill: #FFFFFF;\n",
              "    }\n",
              "  </style>\n",
              "\n",
              "      <script>\n",
              "        const buttonEl =\n",
              "          document.querySelector('#df-8855ba6a-bec8-4ffb-a868-aab27367313a button.colab-df-convert');\n",
              "        buttonEl.style.display =\n",
              "          google.colab.kernel.accessAllowed ? 'block' : 'none';\n",
              "\n",
              "        async function convertToInteractive(key) {\n",
              "          const element = document.querySelector('#df-8855ba6a-bec8-4ffb-a868-aab27367313a');\n",
              "          const dataTable =\n",
              "            await google.colab.kernel.invokeFunction('convertToInteractive',\n",
              "                                                     [key], {});\n",
              "          if (!dataTable) return;\n",
              "\n",
              "          const docLinkHtml = 'Like what you see? Visit the ' +\n",
              "            '<a target=\"_blank\" href=https://colab.research.google.com/notebooks/data_table.ipynb>data table notebook</a>'\n",
              "            + ' to learn more about interactive tables.';\n",
              "          element.innerHTML = '';\n",
              "          dataTable['output_type'] = 'display_data';\n",
              "          await google.colab.output.renderOutput(dataTable, element);\n",
              "          const docLink = document.createElement('div');\n",
              "          docLink.innerHTML = docLinkHtml;\n",
              "          element.appendChild(docLink);\n",
              "        }\n",
              "      </script>\n",
              "    </div>\n",
              "  </div>\n",
              "  "
            ]
          },
          "metadata": {},
          "execution_count": 64
        }
      ],
      "source": [
        "dataset.tail()"
      ]
    },
    {
      "cell_type": "markdown",
      "id": "cdafdb82",
      "metadata": {
        "id": "cdafdb82"
      },
      "source": [
        "### Describe berfungsi menunjukkan gambaran umum dataset secara statistik"
      ]
    },
    {
      "cell_type": "code",
      "execution_count": null,
      "id": "bd811775",
      "metadata": {
        "colab": {
          "base_uri": "https://localhost:8080/",
          "height": 269
        },
        "id": "bd811775",
        "outputId": "8a5e95f1-25d9-49d1-fd1a-e104d57d06e2"
      },
      "outputs": [
        {
          "output_type": "execute_result",
          "data": {
            "text/plain": [
              "                count         mean          std      min      25%      50%  \\\n",
              "Rank          16598.0  8300.605254  4791.853933     1.00  4151.25  8300.50   \n",
              "Year          16598.0  2006.448789     5.790533  1980.00  2003.00  2007.00   \n",
              "NA_Sales      16598.0     0.264667     0.816683     0.00     0.00     0.08   \n",
              "EU_Sales      16598.0     0.146652     0.505351     0.00     0.00     0.02   \n",
              "JP_Sales      16598.0     0.077782     0.309291     0.00     0.00     0.00   \n",
              "Other_Sales   16598.0     0.048063     0.188588     0.00     0.00     0.01   \n",
              "Global_Sales  16598.0     0.537441     1.555028     0.01     0.06     0.17   \n",
              "\n",
              "                   75%       max  \n",
              "Rank          12449.75  16600.00  \n",
              "Year           2010.00   2020.00  \n",
              "NA_Sales          0.24     41.49  \n",
              "EU_Sales          0.11     29.02  \n",
              "JP_Sales          0.04     10.22  \n",
              "Other_Sales       0.04     10.57  \n",
              "Global_Sales      0.47     82.74  "
            ],
            "text/html": [
              "\n",
              "  <div id=\"df-ea0d1429-a44a-4e3f-b2df-dceebc6f6dc8\">\n",
              "    <div class=\"colab-df-container\">\n",
              "      <div>\n",
              "<style scoped>\n",
              "    .dataframe tbody tr th:only-of-type {\n",
              "        vertical-align: middle;\n",
              "    }\n",
              "\n",
              "    .dataframe tbody tr th {\n",
              "        vertical-align: top;\n",
              "    }\n",
              "\n",
              "    .dataframe thead th {\n",
              "        text-align: right;\n",
              "    }\n",
              "</style>\n",
              "<table border=\"1\" class=\"dataframe\">\n",
              "  <thead>\n",
              "    <tr style=\"text-align: right;\">\n",
              "      <th></th>\n",
              "      <th>count</th>\n",
              "      <th>mean</th>\n",
              "      <th>std</th>\n",
              "      <th>min</th>\n",
              "      <th>25%</th>\n",
              "      <th>50%</th>\n",
              "      <th>75%</th>\n",
              "      <th>max</th>\n",
              "    </tr>\n",
              "  </thead>\n",
              "  <tbody>\n",
              "    <tr>\n",
              "      <th>Rank</th>\n",
              "      <td>16598.0</td>\n",
              "      <td>8300.605254</td>\n",
              "      <td>4791.853933</td>\n",
              "      <td>1.00</td>\n",
              "      <td>4151.25</td>\n",
              "      <td>8300.50</td>\n",
              "      <td>12449.75</td>\n",
              "      <td>16600.00</td>\n",
              "    </tr>\n",
              "    <tr>\n",
              "      <th>Year</th>\n",
              "      <td>16598.0</td>\n",
              "      <td>2006.448789</td>\n",
              "      <td>5.790533</td>\n",
              "      <td>1980.00</td>\n",
              "      <td>2003.00</td>\n",
              "      <td>2007.00</td>\n",
              "      <td>2010.00</td>\n",
              "      <td>2020.00</td>\n",
              "    </tr>\n",
              "    <tr>\n",
              "      <th>NA_Sales</th>\n",
              "      <td>16598.0</td>\n",
              "      <td>0.264667</td>\n",
              "      <td>0.816683</td>\n",
              "      <td>0.00</td>\n",
              "      <td>0.00</td>\n",
              "      <td>0.08</td>\n",
              "      <td>0.24</td>\n",
              "      <td>41.49</td>\n",
              "    </tr>\n",
              "    <tr>\n",
              "      <th>EU_Sales</th>\n",
              "      <td>16598.0</td>\n",
              "      <td>0.146652</td>\n",
              "      <td>0.505351</td>\n",
              "      <td>0.00</td>\n",
              "      <td>0.00</td>\n",
              "      <td>0.02</td>\n",
              "      <td>0.11</td>\n",
              "      <td>29.02</td>\n",
              "    </tr>\n",
              "    <tr>\n",
              "      <th>JP_Sales</th>\n",
              "      <td>16598.0</td>\n",
              "      <td>0.077782</td>\n",
              "      <td>0.309291</td>\n",
              "      <td>0.00</td>\n",
              "      <td>0.00</td>\n",
              "      <td>0.00</td>\n",
              "      <td>0.04</td>\n",
              "      <td>10.22</td>\n",
              "    </tr>\n",
              "    <tr>\n",
              "      <th>Other_Sales</th>\n",
              "      <td>16598.0</td>\n",
              "      <td>0.048063</td>\n",
              "      <td>0.188588</td>\n",
              "      <td>0.00</td>\n",
              "      <td>0.00</td>\n",
              "      <td>0.01</td>\n",
              "      <td>0.04</td>\n",
              "      <td>10.57</td>\n",
              "    </tr>\n",
              "    <tr>\n",
              "      <th>Global_Sales</th>\n",
              "      <td>16598.0</td>\n",
              "      <td>0.537441</td>\n",
              "      <td>1.555028</td>\n",
              "      <td>0.01</td>\n",
              "      <td>0.06</td>\n",
              "      <td>0.17</td>\n",
              "      <td>0.47</td>\n",
              "      <td>82.74</td>\n",
              "    </tr>\n",
              "  </tbody>\n",
              "</table>\n",
              "</div>\n",
              "      <button class=\"colab-df-convert\" onclick=\"convertToInteractive('df-ea0d1429-a44a-4e3f-b2df-dceebc6f6dc8')\"\n",
              "              title=\"Convert this dataframe to an interactive table.\"\n",
              "              style=\"display:none;\">\n",
              "        \n",
              "  <svg xmlns=\"http://www.w3.org/2000/svg\" height=\"24px\"viewBox=\"0 0 24 24\"\n",
              "       width=\"24px\">\n",
              "    <path d=\"M0 0h24v24H0V0z\" fill=\"none\"/>\n",
              "    <path d=\"M18.56 5.44l.94 2.06.94-2.06 2.06-.94-2.06-.94-.94-2.06-.94 2.06-2.06.94zm-11 1L8.5 8.5l.94-2.06 2.06-.94-2.06-.94L8.5 2.5l-.94 2.06-2.06.94zm10 10l.94 2.06.94-2.06 2.06-.94-2.06-.94-.94-2.06-.94 2.06-2.06.94z\"/><path d=\"M17.41 7.96l-1.37-1.37c-.4-.4-.92-.59-1.43-.59-.52 0-1.04.2-1.43.59L10.3 9.45l-7.72 7.72c-.78.78-.78 2.05 0 2.83L4 21.41c.39.39.9.59 1.41.59.51 0 1.02-.2 1.41-.59l7.78-7.78 2.81-2.81c.8-.78.8-2.07 0-2.86zM5.41 20L4 18.59l7.72-7.72 1.47 1.35L5.41 20z\"/>\n",
              "  </svg>\n",
              "      </button>\n",
              "      \n",
              "  <style>\n",
              "    .colab-df-container {\n",
              "      display:flex;\n",
              "      flex-wrap:wrap;\n",
              "      gap: 12px;\n",
              "    }\n",
              "\n",
              "    .colab-df-convert {\n",
              "      background-color: #E8F0FE;\n",
              "      border: none;\n",
              "      border-radius: 50%;\n",
              "      cursor: pointer;\n",
              "      display: none;\n",
              "      fill: #1967D2;\n",
              "      height: 32px;\n",
              "      padding: 0 0 0 0;\n",
              "      width: 32px;\n",
              "    }\n",
              "\n",
              "    .colab-df-convert:hover {\n",
              "      background-color: #E2EBFA;\n",
              "      box-shadow: 0px 1px 2px rgba(60, 64, 67, 0.3), 0px 1px 3px 1px rgba(60, 64, 67, 0.15);\n",
              "      fill: #174EA6;\n",
              "    }\n",
              "\n",
              "    [theme=dark] .colab-df-convert {\n",
              "      background-color: #3B4455;\n",
              "      fill: #D2E3FC;\n",
              "    }\n",
              "\n",
              "    [theme=dark] .colab-df-convert:hover {\n",
              "      background-color: #434B5C;\n",
              "      box-shadow: 0px 1px 3px 1px rgba(0, 0, 0, 0.15);\n",
              "      filter: drop-shadow(0px 1px 2px rgba(0, 0, 0, 0.3));\n",
              "      fill: #FFFFFF;\n",
              "    }\n",
              "  </style>\n",
              "\n",
              "      <script>\n",
              "        const buttonEl =\n",
              "          document.querySelector('#df-ea0d1429-a44a-4e3f-b2df-dceebc6f6dc8 button.colab-df-convert');\n",
              "        buttonEl.style.display =\n",
              "          google.colab.kernel.accessAllowed ? 'block' : 'none';\n",
              "\n",
              "        async function convertToInteractive(key) {\n",
              "          const element = document.querySelector('#df-ea0d1429-a44a-4e3f-b2df-dceebc6f6dc8');\n",
              "          const dataTable =\n",
              "            await google.colab.kernel.invokeFunction('convertToInteractive',\n",
              "                                                     [key], {});\n",
              "          if (!dataTable) return;\n",
              "\n",
              "          const docLinkHtml = 'Like what you see? Visit the ' +\n",
              "            '<a target=\"_blank\" href=https://colab.research.google.com/notebooks/data_table.ipynb>data table notebook</a>'\n",
              "            + ' to learn more about interactive tables.';\n",
              "          element.innerHTML = '';\n",
              "          dataTable['output_type'] = 'display_data';\n",
              "          await google.colab.output.renderOutput(dataTable, element);\n",
              "          const docLink = document.createElement('div');\n",
              "          docLink.innerHTML = docLinkHtml;\n",
              "          element.appendChild(docLink);\n",
              "        }\n",
              "      </script>\n",
              "    </div>\n",
              "  </div>\n",
              "  "
            ]
          },
          "metadata": {},
          "execution_count": 52
        }
      ],
      "source": [
        "dataset.describe().T"
      ]
    },
    {
      "cell_type": "markdown",
      "id": "06ef7acf",
      "metadata": {
        "id": "06ef7acf"
      },
      "source": [
        "### Columns berfungsi untuk menunjukkan ada kolom apa saja di dalam sebuah dataset"
      ]
    },
    {
      "cell_type": "code",
      "execution_count": null,
      "id": "f61829d7",
      "metadata": {
        "colab": {
          "base_uri": "https://localhost:8080/"
        },
        "id": "f61829d7",
        "outputId": "f51f7e66-1b35-44b5-fc03-a84065e8cc29"
      },
      "outputs": [
        {
          "output_type": "execute_result",
          "data": {
            "text/plain": [
              "Index(['Rank', 'Name', 'Platform', 'Year', 'Genre', 'Publisher', 'NA_Sales',\n",
              "       'EU_Sales', 'JP_Sales', 'Other_Sales', 'Global_Sales'],\n",
              "      dtype='object')"
            ]
          },
          "metadata": {},
          "execution_count": 53
        }
      ],
      "source": [
        "dataset.columns"
      ]
    },
    {
      "cell_type": "markdown",
      "id": "d1384cb1",
      "metadata": {
        "id": "d1384cb1"
      },
      "source": [
        "### Countplot berfungsi untuk memvisualisasikan jumlah data dari variable berjenis kategori"
      ]
    },
    {
      "cell_type": "code",
      "execution_count": null,
      "id": "fb08779f",
      "metadata": {
        "colab": {
          "base_uri": "https://localhost:8080/",
          "height": 502
        },
        "id": "fb08779f",
        "outputId": "f8a102cb-e805-4821-e855-d146cdbb2238"
      },
      "outputs": [
        {
          "output_type": "display_data",
          "data": {
            "text/plain": [
              "<Figure size 576x576 with 1 Axes>"
            ],
            "image/png": "[encoded data removed]"
          },
          "metadata": {}
        }
      ],
      "source": [
        "sns.countplot(data=dataset, y=\"Genre\")\n",
        "sns.set(rc={'figure.figsize':(15,15)})"
      ]
    },
    {
      "cell_type": "code",
      "execution_count": null,
      "id": "4ca6d749",
      "metadata": {
        "colab": {
          "base_uri": "https://localhost:8080/"
        },
        "id": "4ca6d749",
        "outputId": "6f8bbaee-40d1-4aff-980f-8ad95d6c7386"
      },
      "outputs": [
        {
          "output_type": "execute_result",
          "data": {
            "text/plain": [
              "Action          3316\n",
              "Sports          2346\n",
              "Misc            1739\n",
              "Role-Playing    1488\n",
              "Shooter         1310\n",
              "Adventure       1286\n",
              "Racing          1249\n",
              "Platform         886\n",
              "Simulation       867\n",
              "Fighting         848\n",
              "Strategy         681\n",
              "Puzzle           582\n",
              "Name: Genre, dtype: int64"
            ]
          },
          "metadata": {},
          "execution_count": 59
        }
      ],
      "source": [
        "dataset['Genre'].value_counts()"
      ]
    },
    {
      "cell_type": "code",
      "execution_count": null,
      "id": "963c8867",
      "metadata": {
        "id": "963c8867",
        "outputId": "0031b948-5bbb-4078-a322-db289be36fd6"
      },
      "outputs": [
        {
          "data": {
            "image/png": "[encoded data removed]",
            "text/plain": [
              "<Figure size 842.4x595.44 with 1 Axes>"
            ]
          },
          "metadata": {},
          "output_type": "display_data"
        }
      ],
      "source": [
        "sns.countplot(data=dataset, y=\"Year\")\n",
        "sns.set(rc={'figure.figsize':(20,15)})"
      ]
    },
    {
      "cell_type": "code",
      "execution_count": null,
      "id": "bb5b2a23",
      "metadata": {
        "id": "bb5b2a23",
        "outputId": "361e1521-34d7-4a7b-93ba-e5e2eb034e3a"
      },
      "outputs": [
        {
          "data": {
            "text/plain": [
              "2009.0    1431\n",
              "2008.0    1428\n",
              "2010.0    1259\n",
              "2007.0    1202\n",
              "2011.0    1139\n",
              "2006.0    1008\n",
              "2005.0     941\n",
              "2002.0     829\n",
              "2003.0     775\n",
              "2004.0     763\n",
              "2012.0     657\n",
              "2015.0     614\n",
              "2014.0     582\n",
              "2013.0     546\n",
              "2001.0     482\n",
              "1998.0     379\n",
              "2000.0     349\n",
              "2016.0     344\n",
              "1999.0     338\n",
              "1997.0     289\n",
              "1996.0     263\n",
              "1995.0     219\n",
              "1994.0     121\n",
              "1993.0      60\n",
              "1981.0      46\n",
              "1992.0      43\n",
              "1991.0      41\n",
              "1982.0      36\n",
              "1986.0      21\n",
              "1989.0      17\n",
              "1983.0      17\n",
              "1990.0      16\n",
              "1987.0      16\n",
              "1988.0      15\n",
              "1985.0      14\n",
              "1984.0      14\n",
              "1980.0       9\n",
              "2017.0       3\n",
              "2020.0       1\n",
              "Name: Year, dtype: int64"
            ]
          },
          "execution_count": 67,
          "metadata": {},
          "output_type": "execute_result"
        }
      ],
      "source": [
        "dataset['Year'].value_counts()"
      ]
    }
  ],
  "metadata": {
    "kernelspec": {
      "display_name": "Python 3 (ipykernel)",
      "language": "python",
      "name": "python3"
    },
    "language_info": {
      "codemirror_mode": {
        "name": "ipython",
        "version": 3
      },
      "file_extension": ".py",
      "mimetype": "text/x-python",
      "name": "python",
      "nbconvert_exporter": "python",
      "pygments_lexer": "ipython3",
      "version": "3.9.12"
    },
    "colab": {
      "provenance": [],
      "include_colab_link": true
    }
  },
  "nbformat": 4,
  "nbformat_minor": 5
}